{
  "nbformat": 4,
  "nbformat_minor": 0,
  "metadata": {
    "colab": {
      "provenance": [],
      "authorship_tag": "ABX9TyNDWsecKa2NHfWRjW78FyNQ",
      "include_colab_link": true
    },
    "kernelspec": {
      "name": "python3",
      "display_name": "Python 3"
    },
    "language_info": {
      "name": "python"
    }
  },
  "cells": [
    {
      "cell_type": "markdown",
      "metadata": {
        "id": "view-in-github",
        "colab_type": "text"
      },
      "source": [
        "<a href=\"https://colab.research.google.com/github/LAWWI/Pythonlab3_12/blob/main/It's_almost_finished.ipynb\" target=\"_parent\"><img src=\"https://colab.research.google.com/assets/colab-badge.svg\" alt=\"Open In Colab\"/></a>"
      ]
    },
    {
      "cell_type": "code",
      "execution_count": 1,
      "metadata": {
        "colab": {
          "base_uri": "https://localhost:8080/"
        },
        "id": "xupjRg2jwVPH",
        "outputId": "bd94c51f-fd65-4ea5-f080-f29e5b256804"
      },
      "outputs": [
        {
          "output_type": "stream",
          "name": "stdout",
          "text": [
            "40\n",
            "[2, 2, 2, 5]\n"
          ]
        }
      ],
      "source": [
        "def is_prime(n):\n",
        "    if n <= 1:\n",
        "        return False\n",
        "    for i in range(2, int(n**0.5) + 1):\n",
        "        if n % i == 0:\n",
        "            return False\n",
        "    return True\n",
        "\n",
        "def prime_fac(n):\n",
        "    fac = []\n",
        "    div = 2\n",
        "    while n > 1:\n",
        "        while n % div == 0:\n",
        "            fac.append(div)\n",
        "            n //= div\n",
        "        div += 1\n",
        "    return fac\n",
        "\n",
        "\n",
        "n = int(input())\n",
        "prime_fact_1 = prime_fac(n)\n",
        "print(prime_fact_1)\n",
        "\n",
        "# บรรทัดล่างไม่ต้องผมพึ่งกลับมาทำนะครับไม่ต้องสนมันหรืออาจารย์ใจดีจะสนก็ได้นะครับ\n",
        "# def sum_fact(prime_fact_list):\n",
        "#     total_sum = 0\n",
        "#     for i in prime_fact_list:\n",
        "#         total_sum += i\n",
        "#     print(prime_fact_list,total_sum)\n",
        "#     return total_sum\n",
        "# sum_fact(prime_fact_1)\n"
      ]
    }
  ]
}