{
  "cells": [
    {
      "cell_type": "markdown",
      "metadata": {
        "id": "view-in-github",
        "colab_type": "text"
      },
      "source": [
        "<a href=\"https://colab.research.google.com/github/LAWWI/Pythonlab3_12/blob/main/Another_copy_of_Lab_4.ipynb\" target=\"_parent\"><img src=\"https://colab.research.google.com/assets/colab-badge.svg\" alt=\"Open In Colab\"/></a>"
      ]
    },
    {
      "cell_type": "markdown",
      "metadata": {
        "id": "-bpz7hteQPdz"
      },
      "source": [
        "4.1 2520 คือ ตัวเลขที่น้อยที่สุด ที่สามารถหารด้วยตัวเลขทุกตัวตั้งแต่ 1-10 จงหาจำนวนเต็มบวกที่น้อยที่สุดที่หารด้วยตัวเลขทุกตัวตั้งแต่ 1-20\n",
        "\n",
        "15 = 360360\n",
        "\n",
        "20 = 232792560\n",
        "\n",
        "ปล. ห้าม import math"
      ]
    },
    {
      "cell_type": "code",
      "execution_count": null,
      "metadata": {
        "colab": {
          "base_uri": "https://localhost:8080/"
        },
        "id": "HSZUXcF2QMVn",
        "outputId": "33aed5b0-c4c9-457a-b945-ae7ff37210be"
      },
      "outputs": [
        {
          "name": "stdout",
          "output_type": "stream",
          "text": [
            "20\n",
            "1 0\n",
            "2 1\n",
            "1 0\n",
            "3 2\n",
            "2 1\n",
            "1 0\n",
            "4 2\n",
            "2 0\n",
            "5 2\n",
            "2 1\n",
            "1 0\n",
            "6 0\n",
            "7 4\n",
            "4 3\n",
            "3 1\n",
            "1 0\n",
            "8 4\n",
            "4 0\n",
            "9 3\n",
            "3 0\n",
            "10 0\n",
            "11 1\n",
            "1 0\n",
            "12 0\n",
            "13 4\n",
            "4 1\n",
            "1 0\n",
            "14 0\n",
            "15 0\n",
            "16 8\n",
            "8 0\n",
            "17 5\n",
            "5 2\n",
            "2 1\n",
            "1 0\n",
            "18 0\n",
            "19 14\n",
            "14 5\n",
            "5 4\n",
            "4 1\n",
            "1 0\n",
            "20 0\n",
            "232792560\n"
          ]
        }
      ],
      "source": [
        "x = int(input())\n",
        "result = 1\n",
        "#วนตั้งแต่ตำแหน่งที่1-x+1คือตำแหน่งสุดท้ายเช่นป้อน15 จะเริ่มตั้งแต่1-15 หรือถึง15+1 คือตำแหน่งที่16\n",
        "for i in range(1, x + 1):\n",
        "    a = result\n",
        "    b = i\n",
        "    #หา ครน ลูปจนกว่าbจะไม่มีค่าเข้ามาหรือ ==0 เราใชทริคคือ a,b=b,a%b aจะคือค่าของbและbคือค่าของa%bซึงaที่เอาไปmodคือa = 1แล้วมันจะลุปทำให้a = bหรือก็คือaจะได้เศษเพื่อเอาไปmodต่อจนกว่าจะได้0นั้นเอง\n",
        "    while b:\n",
        "        a, b = b, a % b\n",
        "        #เอาไว้เช็คprint(a,b)\n",
        "\n",
        "    gcd = a\n",
        "    result = result * i // gcd\n",
        "\n",
        "print(result)"
      ]
    },
    {
      "cell_type": "markdown",
      "metadata": {
        "id": "Wq1EFYHUWNOA"
      },
      "source": [
        "4.2 จำนวนเฉพาะ (Prime Number) คือตัวเลขที่มีแต่ 1 กับตัวมันเองที่หารลงตัว โดยจำนวนเฉพาะ 6 ตัวแรกคือ 2, 3, 5, 7, 11, 13 โดยจำนวนเฉพาะตัวที่ 6 คือ 13 จงหาจำนวนเฉพาะตัวที่ 101\n",
        "\n",
        "=> 547"
      ]
    },
    {
      "cell_type": "code",
      "execution_count": null,
      "metadata": {
        "colab": {
          "base_uri": "https://localhost:8080/"
        },
        "collapsed": true,
        "id": "cpMa6Vp0Vz_L",
        "outputId": "1fbf2e06-f9b6-4ec0-a0fc-f7373624f9f5"
      },
      "outputs": [
        {
          "name": "stdout",
          "output_type": "stream",
          "text": [
            "547\n"
          ]
        }
      ],
      "source": [
        "x = 0\n",
        "lst = []\n",
        "while x >=0:\n",
        "  x+=1\n",
        "  k =0\n",
        "  count_w = 0\n",
        "  for num in range(1,x):\n",
        "       for i in range(2,num):\n",
        "           if (num % i) == 0:\n",
        "               break\n",
        "       else:\n",
        "          count_w +=1\n",
        "          if count_w == 102:\n",
        "             print(num)\n",
        "             break\n",
        "  if count_w == 102:\n",
        "       break"
      ]
    },
    {
      "cell_type": "markdown",
      "metadata": {
        "id": "-pUpw-m_WqFG"
      },
      "source": [
        "1.\tกำหนดให้มี List หนึ่งประกอบด้วยตัวเลขจำนวนหนึ่ง และ ให้รับตัวเลขจำนวน 1 จำนวน จากนั้นให้หาว่าใน List มีตัวเลข 2 จำนวนใดที่บวกกันเท่ากับตัวเลขที่รับมา ให้แสดงคำตอบเป็น List เช่น Output: [0,1] โดยอาจมีมากกว่า 1 คำตอบ\n",
        "\n",
        "ตัวอย่าง list : [2, 7, 11, 15]\n",
        "\n",
        "Input : 9\n",
        "\n",
        "Output : 2 + 7 = 9 (ถ้าไม่มีให้บอก None)\n"
      ]
    },
    {
      "cell_type": "code",
      "execution_count": null,
      "metadata": {
        "colab": {
          "base_uri": "https://localhost:8080/"
        },
        "id": "s3djwBi4ks1g",
        "outputId": "7df86959-3ed0-45f5-c0bd-bef490ad0e31"
      },
      "outputs": [
        {
          "name": "stdout",
          "output_type": "stream",
          "text": [
            "9\n",
            "7 2 5 6\n",
            "7+2 = 9\n",
            "None\n"
          ]
        }
      ],
      "source": [
        "x = input()\n",
        "x = int(x)\n",
        "lst =list(map(int,input().split()))\n",
        "answer = []\n",
        "for i in range(len(lst)):\n",
        "    for j in range(i+1,len(lst)):\n",
        "        if lst[i]+lst[j] == x :\n",
        "          answer.append(f\"{lst[i]}+{lst[j]} = {x}\")\n",
        "for k in answer:\n",
        "    print(k)\n",
        "else:\n",
        "    print(\"None\")\n",
        "\n",
        "\n"
      ]
    },
    {
      "cell_type": "markdown",
      "metadata": {
        "id": "_3yLG291lSFy"
      },
      "source": [
        "2.\tให้เขียนโปรแกรมรับข้อมูล 1 บรรทัด ประกอบด้วยตัวเลข 1 หลัก จำนวนไม่เกิน 10 ตัว คั่นด้วยช่องว่าง จากนั้นให้นำตัวเลขที่รับเข้ามาเรียงกัน และหาลำดับการเรียงที่ทำให้มีค่าน้อยที่สุด โดยต้องไม่ขึ้นต้นด้วย 0\n",
        "\n",
        "Input : 9 4 6 2  \n",
        "\n",
        "คำตอบ 2469\n",
        "\n",
        "Input : 3 0 8 1 3 3\n",
        "\n",
        "คำตอบ : 103338\n"
      ]
    },
    {
      "cell_type": "code",
      "execution_count": null,
      "metadata": {
        "colab": {
          "base_uri": "https://localhost:8080/"
        },
        "id": "ACtXvMEyli0L",
        "outputId": "b711699e-a8a0-4355-b88b-d777a068eee1"
      },
      "outputs": [
        {
          "name": "stdout",
          "output_type": "stream",
          "text": [
            "3 0 8 1 3 3\n",
            "103338\n"
          ]
        }
      ],
      "source": [
        "x = input().split()\n",
        "x.sort()\n",
        "if x[0]== '0' and len(x) >1:\n",
        "    for i in range(1,len(x)):\n",
        "        if x[i] !=0:\n",
        "            x[0],x[i] =x[i],'0'\n",
        "            break\n",
        "reves_n = \"\".join(x)\n",
        "print(reves_n)\n",
        "\n",
        "\n",
        "\n"
      ]
    },
    {
      "cell_type": "markdown",
      "metadata": {
        "id": "Gv8aIY7dliSY"
      },
      "source": [
        "3.\tจากตัวเลขต่อไปนี้ ตัวเลขติดกัน 4 ตัวที่เมื่อนำมาคูณกันแล้วมีค่ามากที่สุดคือ 9 × 9 × 8 × 9 = 5832\n",
        "\n",
        "73167176531330624919225119674426574742355349194934\n",
        "96983520312774506326239578318016984801869478851843\n",
        "85861560789112949495459501737958331952853208805511\n",
        "12540698747158523863050715693290963295227443043557\n",
        "66896648950445244523161731856403098711121722383113\n",
        "62229893423380308135336276614282806444486645238749\n",
        "30358907296290491560440772390713810515859307960866\n",
        "70172427121883998797908792274921901699720888093776\n",
        "65727333001053367881220235421809751254540594752243\n",
        "52584907711670556013604839586446706324415722155397\n",
        "53697817977846174064955149290862569321978468622482\n",
        "83972241375657056057490261407972968652414535100474\n",
        "82166370484403199890008895243450658541227588666881\n",
        "16427171479924442928230863465674813919123162824586\n",
        "17866458359124566529476545682848912883142607690042\n",
        "24219022671055626321111109370544217506941658960408\n",
        "07198403850962455444362981230987879927244284909188\n",
        "84580156166097919133875499200524063689912560717606\n",
        "05886116467109405077541002256983155200055935729725\n",
        "71636269561882670428252483600823257530420752963450\n",
        "\n",
        "จงหาเลขติดกัน 8 ตัวที่เมื่อนำมาคูณกันแล้วมีค่ามากที่สุด และเป็นเลขอะไร ผลคูณเท่ากับเท่าไร\n",
        "\n",
        "The maximum product is: 7838208\n",
        "The digits are: 88399879\n",
        "\n",
        "\n",
        "\n"
      ]
    },
    {
      "cell_type": "code",
      "execution_count": null,
      "metadata": {
        "colab": {
          "base_uri": "https://localhost:8080/"
        },
        "id": "wvVqGMknmBu5",
        "outputId": "8c8bcd47-a5ed-4831-c23c-75f62b75e675"
      },
      "outputs": [
        {
          "name": "stdout",
          "output_type": "stream",
          "text": [
            "The maximum product is: 7838208\n",
            "The digits are: 88399879\n"
          ]
        }
      ],
      "source": [
        "x = (\"73167176531330624919225119674426574742355349194934\"\n",
        "           \"96983520312774506326239578318016984801869478851843\"\n",
        "           \"85861560789112949495459501737958331952853208805511\"\n",
        "           \"12540698747158523863050715693290963295227443043557\"\n",
        "           \"66896648950445244523161731856403098711121722383113\"\n",
        "           \"62229893423380308135336276614282806444486645238749\"\n",
        "           \"30358907296290491560440772390713810515859307960866\"\n",
        "           \"70172427121883998797908792274921901699720888093776\"\n",
        "           \"65727333001053367881220235421809751254540594752243\"\n",
        "           \"52584907711670556013604839586446706324415722155397\"\n",
        "           \"53697817977846174064955149290862569321978468622482\"\n",
        "           \"83972241375657056057490261407972968652414535100474\"\n",
        "           \"82166370484403199890008895243450658541227588666881\"\n",
        "           \"16427171479924442928230863465674813919123162824586\"\n",
        "           \"17866458359124566529476545682848912883142607690042\"\n",
        "           \"24219022671055626321111109370544217506941658960408\"\n",
        "           \"07198403850962455444362981230987879927244284909188\"\n",
        "           \"84580156166097919133875499200524063689912560717606\"\n",
        "           \"05886116467109405077541002256983155200055935729725\"\n",
        "           \"71636269561882670428252483600823257530420752963450\")\n",
        "\n",
        "m_product = 0\n",
        "m_digits = \"\"\n",
        "#เราจะวนลูปไปที่ละตัวเลข\n",
        "for i in range(len(x)-7):\n",
        "  #digitคือ range iตำหน่งiใน indexตั้งแต่1-nแล้วstopคือi+8เพื่อจะได้การลูปเลขสไลไปที่ละแปดตัวเช่น i:i+8 i=1 จะได้ตำแหน่งที่1ถึง 1+8 จะได้ตำแหน่งที่ 1ถึง9\n",
        "  digits = x[i:i+8]\n",
        "  product = 1\n",
        "  #ทีนี้เราจะทำการคูณตัวที่ติดกันด้วยการloop\n",
        "  for digit in digits:\n",
        "     #เราจะเอาproductเนี่ยเก็บค่าผลการคูณแหละ 1*digit เลขที่เราลูป8ตัว productจะเกฌบค่าไว้เอามาloopคูณต่อไปถึง8ตัวเพื่อเอามาเทียในif\n",
        "     product *=int(digit)\n",
        "     if m_product < product:\n",
        "         # loop เพื่อนำค่ามาเทียจนกว่าProductค่าที่คูณมา ณจังหวะนั้นนมีค่ามากกว่ารอบที่แล้ว มันก็จะได้ค่ามาที่สุด\n",
        "         m_product = product\n",
        "        #เราจะได้loopที่นำตัวdigitsหรือตัวเลขที่นำมาคูณกันได้เลขมากที่สุดมา8ตัว\n",
        "         m_digits = digits\n",
        "\n",
        "print(\"The maximum product is:\", m_product)\n",
        "print(\"The digits are:\", m_digits)"
      ]
    },
    {
      "cell_type": "markdown",
      "metadata": {
        "id": "fjy5LNC7m0We"
      },
      "source": [
        "4.\tตัวเลข palindrome คือตัวเลขที่อ่านได้ทั้ง 2 ทาง แล้วมีค่าเท่ากัน เช่น 9009 โดย 9009 คือ palindrome ที่เกิดจากการคูณของตัวเลข 2 หลักที่มากที่สุด คือ 91x99 จงหา palindrome ที่มากที่สุดของตัวเลข 3 หลัก\n",
        "\n",
        "The largest palindrome product of 3-digit numbers is: 906609\n"
      ]
    },
    {
      "cell_type": "code",
      "execution_count": null,
      "metadata": {
        "id": "y-QY3hzVmsud"
      },
      "outputs": [],
      "source": []
    },
    {
      "cell_type": "markdown",
      "metadata": {
        "id": "rUZvLJ-JnGJY"
      },
      "source": [
        "5.\tกำหนดให้ string มีเพียงสัญลักษณ์ '(', ')', '{', '}', '[' และ ']' ให้ตรวจสอบว่า String ถูกต้อง โดย เมื่อมีวงเล็บเปิด จะต้องมีวงเล็บปิดที่เป็นชนิดเดียวกัน จำนวนเท่ากันที่เป็นคู่ของมัน\n",
        "\n",
        "```\n",
        "Input: s = \"()\"\n",
        "Output: true\n",
        "Input: s = \"()[]{}\"\n",
        "Output: true\n",
        "Input: s = \"[()]{}\"\n",
        "Output: true\n",
        "Input: s = \"(]\"\n",
        "Output: false\n",
        "```\n",
        "\n",
        "\n"
      ]
    },
    {
      "cell_type": "code",
      "execution_count": null,
      "metadata": {
        "id": "Ku8ts4x7nk1y"
      },
      "outputs": [],
      "source": [
        "s = \"()[{}]\"\n",
        "\n",
        "stack = []\n",
        "mapping = {')': '(', '}': '{', ']': '['}\n",
        "\n",
        "is_valid = True\n",
        "for char in s:\n",
        "    if char in mapping:\n",
        "        top_element = stack.pop() if stack else '#'\n",
        "        #print(top_element)\n",
        "        if mapping[char] != top_element:\n",
        "            is_valid = False\n",
        "            break\n",
        "    else:\n",
        "        stack.append(char)\n",
        "\n",
        "if stack:\n",
        "    is_valid = False\n",
        "\n",
        "print(is_valid)"
      ]
    },
    {
      "cell_type": "markdown",
      "metadata": {
        "id": "PLL9Wdqqnx7o"
      },
      "source": [
        "6.\tกำหนดให้รับข้อมูล Integer (เป็นบวกหรือลบก็ได้) จากนั้นให้แสดงผลลัพธ์ที่ reverse ตัวเลขตามตัวอย่าง\n",
        "\n",
        "```\n",
        "Input: x = 123\n",
        "Output: 321\n",
        "Input: x = -123\n",
        "Output: -321\n",
        "Input: x = 120\n",
        "Output: 21\n",
        "```\n",
        "\n"
      ]
    },
    {
      "cell_type": "code",
      "execution_count": null,
      "metadata": {
        "colab": {
          "base_uri": "https://localhost:8080/"
        },
        "id": "AukrCwOennYM",
        "outputId": "084a889e-3c5b-4b34-aaef-717b708e285e"
      },
      "outputs": [
        {
          "name": "stdout",
          "output_type": "stream",
          "text": [
            "ข้อมูลร้าย : 560\n",
            "65\n"
          ]
        }
      ],
      "source": [
        "x = input(\"ข้อมูลร้าย : \")\n",
        "ne = x\n",
        "j = 1\n",
        "if  x[0] == '-':\n",
        "   j =-1\n",
        "   x = x[1:]\n",
        "x_num = 0\n",
        "for digit in x:\n",
        "    if digit.isdigit():\n",
        "       x_num = x_num * 10 + int(digit)\n",
        "    else:\n",
        "      print(\"ร้ายๆ\")\n",
        "      break\n",
        "x_reves = 0\n",
        "while x_num >0:\n",
        "  digit = x_num %10\n",
        "  x_reves = x_reves*10 + digit\n",
        "  x_num //=10\n",
        "if x_reves !=0:\n",
        "  print(x_reves * j)\n",
        "elif x_reves ==0 and ne[0] != '-':\n",
        "  print(0)\n",
        "elif ne[0] == '-' and x_reves == 0:\n",
        "     print(\"-\",\"0\",sep='')\n",
        "\n",
        "\n"
      ]
    },
    {
      "cell_type": "code",
      "execution_count": null,
      "metadata": {
        "id": "fuR_xDZs3Ki7"
      },
      "outputs": [],
      "source": []
    },
    {
      "cell_type": "markdown",
      "metadata": {
        "id": "KboD6c8rn52a"
      },
      "source": [
        "7.\tเขียนโปรแกรมเพื่อแสดงปิรามิดบนจอภาพ โดยแสดงเป็นรูปสี่เหลี่ยม ตัวเลขเริ่มจาก 0  และเพิ่มค่าตามลําดับจํานวนขั้น จาก 0 ถึง N (รับค่า N จากคีย์บอร์ด) ค่าของ N อยู่ระหว่าง 0-9 ดังตัวอย่าง\n",
        "\n",
        "\n",
        "```\n",
        "\t\t\t\t\t\t\t\t\t         0000000\n",
        "\t\t\t\t\t\t\t    00000\t\t0111110\n",
        "\t\t\t\t\t000\t\t 01110\t\t0122210\n",
        "\t\t\t0\t\t010\t\t01210\t\t0123210\n",
        "\t\t\t\t\t000\t\t 01110\t\t0122210\n",
        "\t\t\t\t\t\t\t    00000\t\t0111110\n",
        "\t\t\t\t\t\t\t\t\t         0000000\n",
        "\n",
        "\t\t\tn=0\t\tn=1\t\tn=2\t\tn=3\n",
        "\n",
        "```\n",
        "\n"
      ]
    },
    {
      "cell_type": "code",
      "execution_count": null,
      "metadata": {
        "colab": {
          "base_uri": "https://localhost:8080/"
        },
        "id": "sGhw6Iyfobiz",
        "outputId": "07a99e0b-c440-4462-90dd-c458d802f626"
      },
      "outputs": [
        {
          "name": "stdout",
          "output_type": "stream",
          "text": [
            "Row : 5\n",
            "0 0 0 0 0 0 0 0 0 0 0  \n",
            "0 1 1 1 1 1 1 1 1 1 0  \n",
            "0 1 2 2 2 2 2 2 2 1 0  \n",
            "0 1 2 3 3 3 3 3 2 1 0  \n",
            "0 1 2 3 4 4 4 3 2 1 0  \n",
            "0 1 2 3 4 5 4 3 2 1 0  \n",
            "0 1 2 3 4 4 4 3 2 1 0  \n",
            "0 1 2 3 3 3 3 3 2 1 0  \n",
            "0 1 2 2 2 2 2 2 2 1 0  \n",
            "0 1 1 1 1 1 1 1 1 1 0  \n",
            "0 0 0 0 0 0 0 0 0 0 0  \n"
          ]
        }
      ],
      "source": [
        "N = int(input(\"Row : \"))\n",
        "N += 1\n",
        "for i in range(N,0,-1):\n",
        "    # step1\n",
        "    for j in range(N,0,-1):\n",
        "        print(N - max(i,j),end=\" \")\n",
        "    # step2\n",
        "    for j in range(2,N+1):\n",
        "        print(N - max(i,j),end=\" \")\n",
        "    print(\" \")\n",
        "    # step3\n",
        "for i in range(2,N+1):\n",
        "    for j in range(N,0,-1):\n",
        "        print(N - max(i,j), end=\" \")\n",
        "    for j in range(2,N+1):\n",
        "        print(N - max(i,j),end=\" \")\n",
        "    print(\" \")"
      ]
    },
    {
      "cell_type": "markdown",
      "metadata": {
        "id": "ecRYU6Lkob6Q"
      },
      "source": [
        "8.\tเขียนโปรแกรมเพื่อแสดงปิรามิดบนจอภาพ โดยแสดงเป็นรูปสี่เหลี่ยม ตัวเลขเริ่มจาก 0  และเพิ่มค่าตามลําดับจํานวนขั้น จาก 0 ถึง N (รับค่า N จากคีย์บอร์ด) กําหนดให้จุดศูนย์กลางของรูปสี่เหลี่ยมอยู่ที่แถว 13 คอลัมน์ 40 ของจอภาพค่าของ N อยู่ระหว่าง 0-9 ดังตัวอย่าง\n",
        "\n",
        "\n",
        "\n",
        "```\n",
        "\t\t\t\t\t\t\t\t\t            0\n",
        "\t\t\t\t\t\t\t      0\t\t    010\n",
        "\t\t\t\t\t  0\t\t  010\t\t  01210\n",
        "\t\t\t0\t\t010\t\t01210\t\t0123210\n",
        "\t\t\t\t\t  0\t\t  010\t\t  01210\n",
        "\t\t\t\t\t\t\t      0\t\t    010\n",
        "\t\t\t\t\t\t\t\t\t            0\n",
        "\n",
        "\t\t\tn=0\t\tn=1\t\tn=2\t\tn=3\n",
        "\n",
        "```\n",
        "\n"
      ]
    },
    {
      "cell_type": "code",
      "execution_count": null,
      "metadata": {
        "colab": {
          "background_save": true
        },
        "id": "JwMXTo4_nwCr",
        "outputId": "f4c1c904-0b64-4a08-f74f-d9269a45a7e7"
      },
      "outputs": [
        {
          "name": "stdout",
          "output_type": "stream",
          "text": [
            "                 *\n",
            "                ***\n",
            "               *****\n",
            "              *******\n",
            "             *********\n",
            "            ***********\n",
            "           *************\n",
            "          ***************\n",
            "         *****************\n",
            "        *                 *\n",
            "       ***               ***\n",
            "      *****             *****\n",
            "     *******           *******\n",
            "    *********         *********\n",
            "   ***********       ***********\n",
            "  *************     *************\n",
            " ***************   ***************\n",
            "***************** *****************\n"
          ]
        }
      ],
      "source": [
        "\n",
        "\n"
      ]
    },
    {
      "cell_type": "markdown",
      "metadata": {
        "id": "Po50A-Kuo5t4"
      },
      "source": [
        "9.\tให้เขียนโปรแกรมสร้างรูปสามเหลี่ยมที่วางซ้อนกัน 3 รูป โดยแต่ละรูปสร้างมาจากเครื่องหมาย \"*\" โดยกําหนดให้รับตัวเลขระดับของสามเหลี่ยมจากคีย์บอร์ด จากตัวอย่างข้างล่างนี้เป็นรูปสามเหลี่ยมระดับที่ 3 และ 4\n",
        "\n",
        "\n",
        "\n",
        "```\n",
        "              *\n",
        "\t\t     ***\n",
        "\t\t    *****\n",
        "\t\t   *     *\n",
        "\t      ***   ***\n",
        "\t     ***** *****\n",
        "\n",
        "  \t\t    *\n",
        "\t  \t   ***\n",
        "\t\t    *****\n",
        "\t\t   *******\n",
        "\t      *       *\n",
        "\t     ***     ***\n",
        "\t    *****   *****\n",
        "\t   ******* *******\n",
        "\n",
        "```\n",
        "\n"
      ]
    },
    {
      "cell_type": "code",
      "execution_count": null,
      "metadata": {
        "id": "HVxXOMagJJwQ"
      },
      "outputs": [],
      "source": [
        "num = int(input(\"Row : \"))\n",
        "for i in range(num):\n",
        "    for j in range((num*2)-i-1):\n",
        "        print(' ',end=\"\")\n",
        "    for j in range(i+1):\n",
        "        print('*',end=\"\")\n",
        "    for j in range(i):\n",
        "        print('*',end=\"\")\n",
        "    print()\n",
        "for i in range(num):\n",
        "    for j in range(num-i-1):\n",
        "        print(' ',end=\"\")\n",
        "    for j in range(i+1):\n",
        "        print('*',end=\"\")\n",
        "    for j in range(i):\n",
        "        print('*',end=\"\")\n",
        "    for j in range(num-i):\n",
        "        print(' ',end=\"\")\n",
        "    for j in range(num-i-1):\n",
        "        print(' ',end=\"\")\n",
        "    for j in range(i+1):\n",
        "        print('*',end=\"\")\n",
        "    for j in range(i):\n",
        "        print('*',end=\"\")\n",
        "    print()\n",
        "\n"
      ]
    }
  ],
  "metadata": {
    "colab": {
      "provenance": [],
      "include_colab_link": true
    },
    "kernelspec": {
      "display_name": "Python 3",
      "name": "python3"
    },
    "language_info": {
      "name": "python"
    }
  },
  "nbformat": 4,
  "nbformat_minor": 0
}